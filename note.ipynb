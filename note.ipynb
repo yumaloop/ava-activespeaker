{
 "cells": [
  {
   "cell_type": "code",
   "execution_count": 2,
   "metadata": {},
   "outputs": [],
   "source": [
    "import pandas as pd"
   ]
  },
  {
   "cell_type": "code",
   "execution_count": 9,
   "metadata": {},
   "outputs": [
    {
     "data": {
      "text/html": [
       "<div>\n",
       "<style scoped>\n",
       "    .dataframe tbody tr th:only-of-type {\n",
       "        vertical-align: middle;\n",
       "    }\n",
       "\n",
       "    .dataframe tbody tr th {\n",
       "        vertical-align: top;\n",
       "    }\n",
       "\n",
       "    .dataframe thead th {\n",
       "        text-align: right;\n",
       "    }\n",
       "</style>\n",
       "<table border=\"1\" class=\"dataframe\">\n",
       "  <thead>\n",
       "    <tr style=\"text-align: right;\">\n",
       "      <th></th>\n",
       "      <th>vidio_id</th>\n",
       "      <th>frame_timestamp</th>\n",
       "      <th>entity_box_x1</th>\n",
       "      <th>entity_box_y1</th>\n",
       "      <th>entity_box_x2</th>\n",
       "      <th>entity_box_y2</th>\n",
       "      <th>label</th>\n",
       "      <th>entity_id</th>\n",
       "    </tr>\n",
       "  </thead>\n",
       "  <tbody>\n",
       "    <tr>\n",
       "      <th>0</th>\n",
       "      <td>-5KQ66BBWC4</td>\n",
       "      <td>1200.60</td>\n",
       "      <td>0.516461</td>\n",
       "      <td>0.330556</td>\n",
       "      <td>0.635802</td>\n",
       "      <td>0.513889</td>\n",
       "      <td>NOT_SPEAKING</td>\n",
       "      <td>-5KQ66BBWC4_1200_1260:2</td>\n",
       "    </tr>\n",
       "    <tr>\n",
       "      <th>1</th>\n",
       "      <td>-5KQ66BBWC4</td>\n",
       "      <td>1200.63</td>\n",
       "      <td>0.512346</td>\n",
       "      <td>0.322222</td>\n",
       "      <td>0.641975</td>\n",
       "      <td>0.522222</td>\n",
       "      <td>NOT_SPEAKING</td>\n",
       "      <td>-5KQ66BBWC4_1200_1260:2</td>\n",
       "    </tr>\n",
       "    <tr>\n",
       "      <th>2</th>\n",
       "      <td>-5KQ66BBWC4</td>\n",
       "      <td>1200.66</td>\n",
       "      <td>0.506173</td>\n",
       "      <td>0.313889</td>\n",
       "      <td>0.646091</td>\n",
       "      <td>0.530556</td>\n",
       "      <td>NOT_SPEAKING</td>\n",
       "      <td>-5KQ66BBWC4_1200_1260:2</td>\n",
       "    </tr>\n",
       "    <tr>\n",
       "      <th>3</th>\n",
       "      <td>-5KQ66BBWC4</td>\n",
       "      <td>1200.70</td>\n",
       "      <td>0.502058</td>\n",
       "      <td>0.305556</td>\n",
       "      <td>0.652263</td>\n",
       "      <td>0.538889</td>\n",
       "      <td>NOT_SPEAKING</td>\n",
       "      <td>-5KQ66BBWC4_1200_1260:2</td>\n",
       "    </tr>\n",
       "    <tr>\n",
       "      <th>4</th>\n",
       "      <td>-5KQ66BBWC4</td>\n",
       "      <td>1200.73</td>\n",
       "      <td>0.497942</td>\n",
       "      <td>0.300000</td>\n",
       "      <td>0.656379</td>\n",
       "      <td>0.544444</td>\n",
       "      <td>NOT_SPEAKING</td>\n",
       "      <td>-5KQ66BBWC4_1200_1260:2</td>\n",
       "    </tr>\n",
       "  </tbody>\n",
       "</table>\n",
       "</div>"
      ],
      "text/plain": [
       "      vidio_id  frame_timestamp  entity_box_x1  entity_box_y1  entity_box_x2  \\\n",
       "0  -5KQ66BBWC4          1200.60       0.516461       0.330556       0.635802   \n",
       "1  -5KQ66BBWC4          1200.63       0.512346       0.322222       0.641975   \n",
       "2  -5KQ66BBWC4          1200.66       0.506173       0.313889       0.646091   \n",
       "3  -5KQ66BBWC4          1200.70       0.502058       0.305556       0.652263   \n",
       "4  -5KQ66BBWC4          1200.73       0.497942       0.300000       0.656379   \n",
       "\n",
       "   entity_box_y2         label                entity_id  \n",
       "0       0.513889  NOT_SPEAKING  -5KQ66BBWC4_1200_1260:2  \n",
       "1       0.522222  NOT_SPEAKING  -5KQ66BBWC4_1200_1260:2  \n",
       "2       0.530556  NOT_SPEAKING  -5KQ66BBWC4_1200_1260:2  \n",
       "3       0.538889  NOT_SPEAKING  -5KQ66BBWC4_1200_1260:2  \n",
       "4       0.544444  NOT_SPEAKING  -5KQ66BBWC4_1200_1260:2  "
      ]
     },
     "execution_count": 9,
     "metadata": {},
     "output_type": "execute_result"
    }
   ],
   "source": [
    "filename=\"./data/ava_activespeaker_train_v1.0/-5KQ66BBWC4-activespeaker.csv\"\n",
    "names=(\"vidio_id\", \"frame_timestamp\", \"entity_box_x1\", \"entity_box_y1\", \"entity_box_x2\", \"entity_box_y2\", \"label\", \"entity_id\")\n",
    "\n",
    "df = pd.read_csv(filename, names=names)\n",
    "df.head()"
   ]
  },
  {
   "cell_type": "code",
   "execution_count": null,
   "metadata": {},
   "outputs": [],
   "source": []
  },
  {
   "cell_type": "code",
   "execution_count": null,
   "metadata": {},
   "outputs": [],
   "source": []
  },
  {
   "cell_type": "code",
   "execution_count": null,
   "metadata": {},
   "outputs": [],
   "source": []
  }
 ],
 "metadata": {
  "kernelspec": {
   "display_name": "Python 3",
   "language": "python",
   "name": "python3"
  },
  "language_info": {
   "codemirror_mode": {
    "name": "ipython",
    "version": 3
   },
   "file_extension": ".py",
   "mimetype": "text/x-python",
   "name": "python",
   "nbconvert_exporter": "python",
   "pygments_lexer": "ipython3",
   "version": "3.5.2"
  },
  "toc": {
   "base_numbering": 1,
   "nav_menu": {},
   "number_sections": true,
   "sideBar": true,
   "skip_h1_title": false,
   "title_cell": "Table of Contents",
   "title_sidebar": "Contents",
   "toc_cell": false,
   "toc_position": {},
   "toc_section_display": true,
   "toc_window_display": false
  }
 },
 "nbformat": 4,
 "nbformat_minor": 2
}
